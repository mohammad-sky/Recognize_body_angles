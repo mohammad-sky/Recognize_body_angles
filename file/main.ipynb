{
  "cells": [
    {
      "cell_type": "code",
      "execution_count": null,
      "metadata": {
        "colab": {
          "base_uri": "https://localhost:8080/"
        },
        "id": "S1gO0VLZxvVl",
        "outputId": "ea2e3acf-3a01-4b33-c0bc-f66bd0e8c546"
      },
      "outputs": [],
      "source": [
        "!pip install mediapipe opencv-python\n",
        "\n",
        "import math\n",
        "import cv2\n",
        "import numpy as np\n",
        "from time import time\n",
        "import mediapipe as mp\n",
        "import matplotlib.pyplot as plt"
      ]
    },
    {
      "cell_type": "code",
      "execution_count": null,
      "metadata": {
        "colab": {
          "base_uri": "https://localhost:8080/"
        },
        "id": "FJ_iinwMx0HD",
        "outputId": "2702357c-fa18-463b-c410-0ebe5c681758"
      },
      "outputs": [
        {
          "name": "stdout",
          "output_type": "stream",
          "text": [
            "Downloading model to /usr/local/lib/python3.7/dist-packages/mediapipe/modules/pose_landmark/pose_landmark_heavy.tflite\n"
          ]
        }
      ],
      "source": [
        "mp_pose = mp.solutions.pose\n",
        "\n",
        "pose = mp_pose.Pose(static_image_mode=True, min_detection_confidence=0.3, model_complexity=2)\n",
        "\n",
        "mp_drawing = mp.solutions.drawing_utils "
      ]
    },
    {
      "cell_type": "code",
      "execution_count": null,
      "metadata": {
        "id": "EeKdoKYox2UT"
      },
      "outputs": [],
      "source": [
        "def detectPose(image, pose, display=True):\n",
        "\n",
        "    \n",
        "    output_image = image.copy()\n",
        "    \n",
        "    imageRGB = cv2.cvtColor(image, cv2.COLOR_BGR2RGB)\n",
        "    \n",
        "    results = pose.process(imageRGB)\n",
        "    \n",
        "    height, width, _ = image.shape\n",
        "    \n",
        "    landmarks = []\n",
        "    \n",
        "    if results.pose_landmarks:\n",
        "    \n",
        "        mp_drawing.draw_landmarks(image=output_image, landmark_list=results.pose_landmarks,\n",
        "                                  connections=mp_pose.POSE_CONNECTIONS)\n",
        "        \n",
        "        for landmark in results.pose_landmarks.landmark:\n",
        "            \n",
        "            landmarks.append((int(landmark.x * width), int(landmark.y * height),\n",
        "                                  (landmark.z * width)))\n",
        "    \n",
        "    if display:\n",
        "    \n",
        "        plt.figure(figsize=[22,22])\n",
        "        plt.subplot(121);plt.imshow(image[:,:,::-1]);plt.title(\"Original Image\");plt.axis('off');\n",
        "        plt.subplot(122);plt.imshow(output_image[:,:,::-1]);plt.title(\"Output Image\");plt.axis('off');\n",
        "        \n",
        "        mp_drawing.plot_landmarks(results.pose_world_landmarks, mp_pose.POSE_CONNECTIONS)\n",
        "        \n",
        "    # Otherwise\n",
        "    else:\n",
        "        \n",
        "        return output_image, landmarks"
      ]
    },
    {
      "cell_type": "code",
      "execution_count": null,
      "metadata": {
        "id": "CZRuEakayENZ"
      },
      "outputs": [],
      "source": [
        "def calculateAngle(landmark1, landmark2, landmark3):\n",
        "\n",
        "\n",
        "    x1, y1, _ = landmark1\n",
        "    x2, y2, _ = landmark2\n",
        "    x3, y3, _ = landmark3\n",
        "\n",
        "    angle = math.degrees(math.atan2(y3 - y2, x3 - x2) - math.atan2(y1 - y2, x1 - x2))\n",
        "    \n",
        "    if angle < 0:\n",
        "\n",
        "        angle += 360\n",
        "    \n",
        "    return angle"
      ]
    },
    {
      "cell_type": "code",
      "execution_count": null,
      "metadata": {
        "id": "II9dnaapyJcJ"
      },
      "outputs": [],
      "source": [
        "def classifyPose(landmarks, output_image, display=False):\n",
        "\n",
        "    label = 'Unknown Pose'\n",
        "\n",
        "    color = (0, 0, 255)\n",
        "    \n",
        "    # Calculate the required angles.\n",
        "    #----------------------------------------------------------------------------------------------------------------\n",
        "    \n",
        "    # Get the angle between the left shoulder, elbow and wrist points. \n",
        "    left_elbow_angle = calculateAngle(landmarks[mp_pose.PoseLandmark.LEFT_SHOULDER.value],\n",
        "                                      landmarks[mp_pose.PoseLandmark.LEFT_ELBOW.value],\n",
        "                                      landmarks[mp_pose.PoseLandmark.LEFT_WRIST.value])\n",
        "    \n",
        "    # Get the angle between the right shoulder, elbow and wrist points. \n",
        "    right_elbow_angle = calculateAngle(landmarks[mp_pose.PoseLandmark.RIGHT_SHOULDER.value],\n",
        "                                       landmarks[mp_pose.PoseLandmark.RIGHT_ELBOW.value],\n",
        "                                       landmarks[mp_pose.PoseLandmark.RIGHT_WRIST.value])   \n",
        "    \n",
        "    # Get the angle between the left elbow, shoulder and hip points. \n",
        "    left_shoulder_angle = calculateAngle(landmarks[mp_pose.PoseLandmark.LEFT_ELBOW.value],\n",
        "                                         landmarks[mp_pose.PoseLandmark.LEFT_SHOULDER.value],\n",
        "                                         landmarks[mp_pose.PoseLandmark.LEFT_HIP.value])\n",
        "\n",
        "    # Get the angle between the right hip, shoulder and elbow points. \n",
        "    right_shoulder_angle = calculateAngle(landmarks[mp_pose.PoseLandmark.RIGHT_HIP.value],\n",
        "                                          landmarks[mp_pose.PoseLandmark.RIGHT_SHOULDER.value],\n",
        "                                          landmarks[mp_pose.PoseLandmark.RIGHT_ELBOW.value])\n",
        "\n",
        "    # Get the angle between the left hip, knee and ankle points. \n",
        "    left_knee_angle = calculateAngle(landmarks[mp_pose.PoseLandmark.LEFT_HIP.value],\n",
        "                                     landmarks[mp_pose.PoseLandmark.LEFT_KNEE.value],\n",
        "                                     landmarks[mp_pose.PoseLandmark.LEFT_ANKLE.value])\n",
        "\n",
        "    # Get the angle between the right hip, knee and ankle points \n",
        "    right_knee_angle = calculateAngle(landmarks[mp_pose.PoseLandmark.RIGHT_HIP.value],\n",
        "                                      landmarks[mp_pose.PoseLandmark.RIGHT_KNEE.value],\n",
        "                                      landmarks[mp_pose.PoseLandmark.RIGHT_ANKLE.value])\n",
        "    \n",
        "\n",
        "\n",
        "    \n",
        "    right_hip_angle = calculateAngle(landmarks[mp_pose.PoseLandmark.RIGHT_SHOULDER.value],\n",
        "                                      landmarks[mp_pose.PoseLandmark.RIGHT_HIP.value],\n",
        "                                      landmarks[mp_pose.PoseLandmark.RIGHT_KNEE.value])\n",
        "    \n",
        "\n",
        "        \n",
        "    left_hip_angle = calculateAngle(landmarks[mp_pose.PoseLandmark.LEFT_SHOULDER.value],\n",
        "                                      landmarks[mp_pose.PoseLandmark.LEFT_HIP.value],\n",
        "                                      landmarks[mp_pose.PoseLandmark.LEFT_KNEE.value])\n",
        "    #----------------------------------------------------------------------------------------------------------------\n",
        "    \n",
        "\n",
        "    \n",
        "    \n",
        "    if left_knee_angle > 160 and left_knee_angle < 195 and right_knee_angle > 160 and right_knee_angle < 195:\n",
        "\n",
        "        label = 'T Pose'\n",
        "\n",
        "    #----------------------------------------------------------------------------------------------------------------\n",
        "    \n",
        "    \n",
        "\n",
        "            \n",
        "    if label != 'Unknown Pose':\n",
        "        \n",
        "        color = (0, 255, 0)  \n",
        "    \n",
        "    cv2.putText(output_image, label, (10, 30),cv2.FONT_HERSHEY_PLAIN, 2, color, 2)\n",
        "    \n",
        "    if display:\n",
        "    \n",
        "        plt.figure(figsize=[10,10])\n",
        "        plt.imshow(output_image[:,:,::-1]);plt.title(\"Output Image\");plt.axis('off');\n",
        "        \n",
        "    else:\n",
        "        \n",
        "        return output_image, label"
      ]
    },
    {
      "cell_type": "code",
      "execution_count": null,
      "metadata": {
        "colab": {
          "base_uri": "https://localhost:8080/",
          "height": 417
        },
        "id": "RGNOyz0_yNYo",
        "outputId": "c6beef71-5233-4a0c-fa96-2734a2833f68"
      },
      "outputs": [],
      "source": [
        "image = cv2.imread('image.jpg')\n",
        "output_image, landmarks = detectPose(image, pose, display=False)\n",
        "if landmarks:\n",
        "    classifyPose(landmarks, output_image, display=True)"
      ]
    }
  ],
  "metadata": {
    "colab": {
      "collapsed_sections": [],
      "name": "Recognize body angles for muezzin ",
      "provenance": [],
      "toc_visible": true
    },
    "kernelspec": {
      "display_name": "Python 3",
      "name": "python3"
    },
    "language_info": {
      "name": "python"
    }
  },
  "nbformat": 4,
  "nbformat_minor": 0
}
